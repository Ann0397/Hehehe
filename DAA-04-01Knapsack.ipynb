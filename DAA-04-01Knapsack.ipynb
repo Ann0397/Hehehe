{
 "cells": [
  {
   "cell_type": "code",
   "execution_count": 4,
   "id": "b1b22310",
   "metadata": {},
   "outputs": [
    {
     "name": "stdout",
     "output_type": "stream",
     "text": [
      "Maximum Profit achieved with this knapsack: \n",
      "200\n"
     ]
    }
   ],
   "source": [
    "def knapsack(W, wt, val, n):\n",
    "   K = [[0] * (W+1) for i in range (n+1)]\n",
    "   for i in range(n+1):\n",
    "      for w in range(W+1):\n",
    "         if(i == 0 or w == 0):\n",
    "            K[i][w] = 0\n",
    "         elif(wt[i-1] <= w):\n",
    "            K[i][w] = max(val[i-1] + K[i-1][w-wt[i-1]], K[i-1][w])\n",
    "         else:\n",
    "            K[i][w] = K[i-1][w]\n",
    "   return K[n][W]\n",
    "\n",
    "val = [70, 20, 50, 40, 80];\n",
    "wt = [11, 12, 13, 10, 15];\n",
    "W = 40;\n",
    "ln = len(val);\n",
    "profit = knapsack(W, wt, val, ln)\n",
    "print(\"Maximum Profit achieved with this knapsack: \")\n",
    "print(profit)"
   ]
  },
  {
   "cell_type": "code",
   "execution_count": null,
   "id": "56856565",
   "metadata": {},
   "outputs": [],
   "source": []
  }
 ],
 "metadata": {
  "kernelspec": {
   "display_name": "Python 3 (ipykernel)",
   "language": "python",
   "name": "python3"
  },
  "language_info": {
   "codemirror_mode": {
    "name": "ipython",
    "version": 3
   },
   "file_extension": ".py",
   "mimetype": "text/x-python",
   "name": "python",
   "nbconvert_exporter": "python",
   "pygments_lexer": "ipython3",
   "version": "3.10.8"
  }
 },
 "nbformat": 4,
 "nbformat_minor": 5
}

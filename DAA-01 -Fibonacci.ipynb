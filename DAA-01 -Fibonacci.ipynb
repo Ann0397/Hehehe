{
 "cells": [
  {
   "cell_type": "markdown",
   "id": "15a5c569",
   "metadata": {},
   "source": [
    "# Fibonacci Recursive"
   ]
  },
  {
   "cell_type": "code",
   "execution_count": 10,
   "id": "b6863de9",
   "metadata": {},
   "outputs": [],
   "source": [
    "def recursive(n):\n",
    "    if n==0:\n",
    "        return 0\n",
    "    elif n==1 or n==2:\n",
    "        return 1\n",
    "    \n",
    "    return recursive(n-1)+recursive(n-2)"
   ]
  },
  {
   "cell_type": "markdown",
   "id": "db1125c4",
   "metadata": {},
   "source": [
    "# Fibonacci Non Recursive"
   ]
  },
  {
   "cell_type": "code",
   "execution_count": 14,
   "id": "44d66e01",
   "metadata": {},
   "outputs": [],
   "source": [
    "def non_recursive(n):\n",
    "    a = -1\n",
    "    b = 1\n",
    "    c = 0\n",
    "    \n",
    "    for i in range(n):\n",
    "        c = a+b\n",
    "        print(c)\n",
    "        a = b\n",
    "        b = c"
   ]
  },
  {
   "cell_type": "code",
   "execution_count": 16,
   "id": "c9a4ce29",
   "metadata": {},
   "outputs": [
    {
     "name": "stdout",
     "output_type": "stream",
     "text": [
      "Recursive Approach :- \n",
      "Enter number of terms : 5\n",
      "0\n",
      "1\n",
      "1\n",
      "2\n",
      "3\n"
     ]
    }
   ],
   "source": [
    "print(\"Recursive Approach :- \")\n",
    "\n",
    "N = int(input(\"Enter number of terms : \"))\n",
    "\n",
    "for i in range(N):\n",
    "    print(recursive(i))"
   ]
  },
  {
   "cell_type": "code",
   "execution_count": 17,
   "id": "55a906bf",
   "metadata": {},
   "outputs": [
    {
     "name": "stdout",
     "output_type": "stream",
     "text": [
      "Non-Recusrive Approach :- \n",
      "Enter number of terms5\n",
      "0\n",
      "1\n",
      "1\n",
      "2\n",
      "3\n",
      "None\n"
     ]
    }
   ],
   "source": [
    "print(\"Non-Recusrive Approach :- \")\n",
    "\n",
    "N = int(input(\"Enter number of terms\"))\n",
    "\n",
    "print(non_recursive(N))"
   ]
  },
  {
   "cell_type": "code",
   "execution_count": 18,
   "id": "e49137bb",
   "metadata": {},
   "outputs": [],
   "source": [
    "# Time Complexity of Non-Recusive Approach O(n)\n",
    "\n",
    "# Space Complexity Of Non - Recursive Approach O(1)"
   ]
  },
  {
   "cell_type": "code",
   "execution_count": 19,
   "id": "9a2c93d2",
   "metadata": {},
   "outputs": [],
   "source": [
    "# Time Complexity of Recusive Approach O(2^n)\n",
    "\n",
    "# Space Complexity Of Recursive Approach O(N)\n",
    "\n",
    "# Space required is proportional to the maximum depth of the recursion tree,\n",
    "# because, that is the maximum number of elements that can be present in the\n",
    "# implicit function call stack."
   ]
  },
  {
   "cell_type": "code",
   "execution_count": null,
   "id": "dd59130c",
   "metadata": {},
   "outputs": [],
   "source": []
  }
 ],
 "metadata": {
  "kernelspec": {
   "display_name": "Python 3 (ipykernel)",
   "language": "python",
   "name": "python3"
  },
  "language_info": {
   "codemirror_mode": {
    "name": "ipython",
    "version": 3
   },
   "file_extension": ".py",
   "mimetype": "text/x-python",
   "name": "python",
   "nbconvert_exporter": "python",
   "pygments_lexer": "ipython3",
   "version": "3.10.9"
  }
 },
 "nbformat": 4,
 "nbformat_minor": 5
}
